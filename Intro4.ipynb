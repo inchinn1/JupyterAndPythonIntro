{
 "cells": [
  {
   "cell_type": "markdown",
   "metadata": {},
   "source": [
    "# Functions and how to make them\n",
    "### also how to fit any equation to your data"
   ]
  },
  {
   "cell_type": "code",
   "execution_count": null,
   "metadata": {},
   "outputs": [],
   "source": [
    "import numpy as np\n",
    "import matplotlib.pyplot as plt\n",
    "\n",
    "plt.rcParams.update({'font.size': 14, 'figure.figsize': [12, 8]})\n",
    "# sets some default parameters for the size and font size of all plots"
   ]
  },
  {
   "cell_type": "markdown",
   "metadata": {},
   "source": [
    "You have already been using lots of functions! anything with **( )** after it is typically a function.  \n",
    "Usually they have an input which goes inside the round brackets.  \n",
    "They then do something and return the result.  \n",
    "e.g. len(data) counts how many points are in data and returns the result\n",
    "\n",
    "You can make your own function by first defining it\n",
    "- run the two cells below to import some libraries and define a simple function"
   ]
  },
  {
   "cell_type": "code",
   "execution_count": null,
   "metadata": {},
   "outputs": [],
   "source": [
    "def simpleEquation(a,b):\n",
    "    return (a-5)**b"
   ]
  },
  {
   "cell_type": "markdown",
   "metadata": {},
   "source": [
    "This syntax creates a function **def nameOfFunction( ):**  \n",
    "Anything inside the bracets are expected inputs.\n",
    "What the function does is described **below and at one indent**  \n",
    "This is similar to for loops that you learnt about in Intro1, anything at one indent is inside the function.\n",
    "- in the cell below type simpleEquation(2,4)\n",
    "- you should get an answer of 81 which is (1-5)^4 (in python ** is the same as ^ which means to the power of)"
   ]
  },
  {
   "cell_type": "code",
   "execution_count": null,
   "metadata": {},
   "outputs": [],
   "source": []
  },
  {
   "cell_type": "markdown",
   "metadata": {},
   "source": [
    "### You can plot the results of such functions directly in a graph, let's say you wanted a graph of this equation with 'a' varying over a range from 0 to 100\n",
    "- first you create an x range e.g. xRange = np.arange(0,100)\n",
    "- then you simply use xRange in place of the first input in the function\n",
    "- run the cell below to see this"
   ]
  },
  {
   "cell_type": "code",
   "execution_count": null,
   "metadata": {
    "scrolled": false
   },
   "outputs": [],
   "source": [
    "xRange = np.arange(0,100)\n",
    "plt.plot(xRange,simpleEquation(xRange,2));"
   ]
  },
  {
   "cell_type": "markdown",
   "metadata": {},
   "source": [
    "## Next load some data and display a scatter plot\n",
    "- run the cell below"
   ]
  },
  {
   "cell_type": "code",
   "execution_count": null,
   "metadata": {
    "scrolled": false
   },
   "outputs": [],
   "source": [
    "scatter = np.loadtxt(\"scatterData.txt\")\n",
    "print(scatter.shape)"
   ]
  },
  {
   "cell_type": "markdown",
   "metadata": {},
   "source": [
    "scatter contains 2 columns of 200 points, the first column is the x data and the second is the y data\n",
    "- run the cell below to plot these against each other\n",
    "- **recall how to index the different columns of the data with [ ]**\n",
    "- note the use of **'o'** in the plot code, this changes the style to round markers"
   ]
  },
  {
   "cell_type": "code",
   "execution_count": null,
   "metadata": {},
   "outputs": [],
   "source": [
    "plt.plot(scatter[:,0],scatter[:,1],'o');"
   ]
  },
  {
   "cell_type": "markdown",
   "metadata": {},
   "source": [
    "### It looks like this data would be well fit with a straight line, let's do that \n",
    "- 1st we define a line function slope*x+c\n",
    "- **Important** Always have the dependent variable as the first input with the constants following after\n",
    "- see the example below\n",
    "- complete the code by typing out the equation after the return statement\n"
   ]
  },
  {
   "cell_type": "code",
   "execution_count": null,
   "metadata": {},
   "outputs": [],
   "source": [
    "def line(x,slope,c):\n",
    "    return "
   ]
  },
  {
   "cell_type": "markdown",
   "metadata": {},
   "source": [
    "A straight line equation has two constants, the slope and the offset \"c\"  \n",
    "We want to determine what the best values of these two constants are, we do this by \"fitting\" the equation to the data.  \n",
    "\n",
    "SciPy has an 'optimize' module that helps you do this. \n",
    "Details of the curvefit function can be found here: (https://docs.scipy.org/doc/scipy/reference/generated/scipy.optimize.curve_fit.html)\n"
   ]
  },
  {
   "cell_type": "code",
   "execution_count": null,
   "metadata": {},
   "outputs": [],
   "source": [
    "import scipy.optimize as fit"
   ]
  },
  {
   "cell_type": "markdown",
   "metadata": {},
   "source": [
    "We will use the curve_fit function.  \n",
    "- This function outputs two objects, the first is an array containing the results of the best fit, the array will be as long as there are constants.  \n",
    "- In our case it will have 2 values and these will be in the order which you defined within the line equation above, i.e slope and then c.  \n",
    "- The other output of Curve_fit is the covariance of the params which we will ignore.  \n",
    "\n",
    "- There are 3 required inputs to curve_fit and they should be in the following order: 1) the function we are fitting, 2) the x data, 3) the y data\n",
    "\n"
   ]
  },
  {
   "cell_type": "code",
   "execution_count": null,
   "metadata": {
    "scrolled": true
   },
   "outputs": [],
   "source": [
    "params, paramsCoV = fit.curve_fit(line,scatter[:,0],scatter[:,1])\n",
    "## ignore any warnings printed below"
   ]
  },
  {
   "cell_type": "markdown",
   "metadata": {},
   "source": [
    "### params now contains the values of slope and c\n",
    "- in the cell below is the code for the scatter plot we have already made\n",
    "- we are going to add the line of best fit to this graph\n",
    "- on the middle line complete the code for plotting the line equation, there are two blanks to fill in. Replace the underscores with the correct code.\n",
    "- The last line prints the values for the slope and offset"
   ]
  },
  {
   "cell_type": "code",
   "execution_count": null,
   "metadata": {
    "scrolled": false
   },
   "outputs": [],
   "source": [
    "plt.plot(scatter[:,0],scatter[:,1],'o');\n",
    "plt.plot(scatter[:,0],line(scatter[:,0],_____,_____));\n",
    "\n",
    "print(\"The slope was\",params[0],\"and the offset was\",params[1])"
   ]
  },
  {
   "cell_type": "markdown",
   "metadata": {},
   "source": [
    "## That was the last notebook completed. Well done! This is what you have learnt:\n",
    "   - how to define functions\n",
    "   - how to plot the output of a function in a graph\n",
    "   - how to fit a function to data\n",
    "\n"
   ]
  },
  {
   "cell_type": "code",
   "execution_count": null,
   "metadata": {},
   "outputs": [],
   "source": []
  }
 ],
 "metadata": {
  "kernelspec": {
   "display_name": "Python 3",
   "language": "python",
   "name": "python3"
  },
  "language_info": {
   "codemirror_mode": {
    "name": "ipython",
    "version": 3
   },
   "file_extension": ".py",
   "mimetype": "text/x-python",
   "name": "python",
   "nbconvert_exporter": "python",
   "pygments_lexer": "ipython3",
   "version": "3.7.6"
  },
  "varInspector": {
   "cols": {
    "lenName": 16,
    "lenType": 16,
    "lenVar": 40
   },
   "kernels_config": {
    "python": {
     "delete_cmd_postfix": "",
     "delete_cmd_prefix": "del ",
     "library": "var_list.py",
     "varRefreshCmd": "print(var_dic_list())"
    },
    "r": {
     "delete_cmd_postfix": ") ",
     "delete_cmd_prefix": "rm(",
     "library": "var_list.r",
     "varRefreshCmd": "cat(var_dic_list()) "
    }
   },
   "types_to_exclude": [
    "module",
    "function",
    "builtin_function_or_method",
    "instance",
    "_Feature"
   ],
   "window_display": false
  }
 },
 "nbformat": 4,
 "nbformat_minor": 4
}
