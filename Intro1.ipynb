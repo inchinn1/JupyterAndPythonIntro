{
 "cells": [
  {
   "cell_type": "markdown",
   "metadata": {},
   "source": [
    "# This is a markdown cell\n",
    "### hash symbols define the heading type\n",
    "\n",
    "it allows quick formatting of text that you may use to describe your code\n",
    "- a hyphen will make a bullet point\n",
    "- text between single *asterisks will be* italicised\n",
    "- text between **double asterisks** will be bold  \n",
    "\n",
    "when you run this cell it will be converted to formatted text, you can double click in it to edit "
   ]
  },
  {
   "cell_type": "code",
   "execution_count": null,
   "metadata": {},
   "outputs": [],
   "source": [
    "# the hash symbol is used to \"comment out code\" anything on a line after # is not treated as code.\n",
    "# it is useful for adding comments about what your code does\n",
    "msg = \"hello again\"\n",
    "print(\"hello world\", msg)\n"
   ]
  },
  {
   "cell_type": "markdown",
   "metadata": {},
   "source": [
    "#### In the code cell below type a=\"hello \", press enter for a new line and type b=1 enter for another new line and type c=0.1, then run this cell using shift+enter"
   ]
  },
  {
   "cell_type": "code",
   "execution_count": null,
   "metadata": {},
   "outputs": [],
   "source": [
    "\n",
    "\n"
   ]
  },
  {
   "cell_type": "markdown",
   "metadata": {},
   "source": [
    "#### a, b and c now exist in this note book's \"memory\"\n",
    "- run the cell below"
   ]
  },
  {
   "cell_type": "code",
   "execution_count": null,
   "metadata": {},
   "outputs": [],
   "source": [
    "print(a,b,\"and all\")"
   ]
  },
  {
   "cell_type": "markdown",
   "metadata": {},
   "source": [
    "#### The 'print' function can print multiple things when they are seperated by a comma\n",
    "- in the next cell finish the third line so that c is printed in the same way as a and b"
   ]
  },
  {
   "cell_type": "code",
   "execution_count": null,
   "metadata": {},
   "outputs": [],
   "source": [
    "print(\"a is an example of \",type(a))\n",
    "print(\"b is an example of \",type(b))\n",
    "print( )"
   ]
  },
  {
   "cell_type": "markdown",
   "metadata": {},
   "source": [
    "#### The 'type' function returns what type the object is, here is 'a' is a string i.e. it contains a string of characters, 'b' and 'c' are variables which are just single numbers, they can be integers (i.e. whole numbers) or floats (have decimals)\n",
    "- in the next cell create a new variable 'd' and make it equal b / 4\n",
    "- then on a new line print(d, type(d))"
   ]
  },
  {
   "cell_type": "code",
   "execution_count": null,
   "metadata": {},
   "outputs": [],
   "source": []
  },
  {
   "cell_type": "markdown",
   "metadata": {},
   "source": [
    "#### You can do maths with variables , if you divide an integer it will return a float\n",
    "- run the next cell to learn about lists"
   ]
  },
  {
   "cell_type": "code",
   "execution_count": null,
   "metadata": {},
   "outputs": [],
   "source": [
    "e = []\n",
    "print(\"e is a \",type(e))"
   ]
  },
  {
   "cell_type": "markdown",
   "metadata": {},
   "source": [
    "### lists are containers of python things, you can create an empty one as above or put any kind of data class into them.\n",
    "- run the next cell to put some things in the list 'e' with the append function"
   ]
  },
  {
   "cell_type": "code",
   "execution_count": null,
   "metadata": {},
   "outputs": [],
   "source": [
    "e.append(c)\n",
    "e.append(b)\n",
    "e.append(d)\n",
    "e.append(a)\n",
    "\n",
    "f=['lists are just lists of things','that can contain any data type']\n",
    "e.append(f)\n",
    "e.append(\"This string is at index 5\")\n",
    "\n",
    "e.append('the last item in this list')\n",
    "\n",
    "print(e)\n"
   ]
  },
  {
   "cell_type": "markdown",
   "metadata": {},
   "source": [
    "#### Lists are very useful to append things to, e.g to store a list of files names that you want to process. You can query how many items are in the list with the len( ) function\n",
    "- in the cell below type print(\"there are\", len(e), \"items in e\") "
   ]
  },
  {
   "cell_type": "code",
   "execution_count": null,
   "metadata": {},
   "outputs": [],
   "source": []
  },
  {
   "cell_type": "markdown",
   "metadata": {},
   "source": [
    "You can access what is in the list at different positions using square brackets and the appropriate index\n",
    "- in the cell below print e[5]\n",
    "- then try changing the index\n",
    "- next try using -1 as the index  \n",
    "\n",
    "# Important point: Python counts from 0. So the first position in a list is index 0 \n",
    "\n",
    "### watch [this video](https://youtu.be/KAXvMbD1Zac) if you are unsure about how indexing works "
   ]
  },
  {
   "cell_type": "code",
   "execution_count": null,
   "metadata": {},
   "outputs": [],
   "source": []
  },
  {
   "cell_type": "markdown",
   "metadata": {},
   "source": [
    "We will now create a new list and learn how to use loops to automate tasks\n",
    "- run the next cell to create the new list"
   ]
  },
  {
   "cell_type": "code",
   "execution_count": null,
   "metadata": {},
   "outputs": [],
   "source": [
    "alist=['each','of','these','words','are','the','contents','of','the','list','at','the','specified','index','of','the','list']"
   ]
  },
  {
   "cell_type": "markdown",
   "metadata": {},
   "source": [
    "### We are now going to create a \"for loop\" to print each item in this new list one at a time\n",
    "<img src=\"for loops.jpg\" style=\"width: 500px;\"/> \n",
    "- in the cell below type: for i in alist:\n",
    "- on a new line type print(i)\n",
    "- make sure the print statement is indented one tab, it should do this automatically if you hit enter after the colon\n",
    "- run the cell"
   ]
  },
  {
   "cell_type": "code",
   "execution_count": null,
   "metadata": {},
   "outputs": [],
   "source": [
    "\n"
   ]
  },
  {
   "cell_type": "markdown",
   "metadata": {},
   "source": [
    "### In this example 'i' becomes what is at each position of the list\n",
    "The for loop will repeat what is \"inside\" the loop as many times as there are items in the list.  \n",
    "**\"inside\" the loop means anyting that is indented one tab after the for statement.** Any code that is not indented is not inside the loop\n",
    "- An alternative way to do the same thing is to use 'range( )' instead of the list\n",
    "- Range will creat a list of numbers, you can then use these to refer to the index of alist\n",
    "- Run the cell below which is an example showing this\n",
    "    - I have used 'range( )' to create a list of numbers that is the same length as 'alist'\n",
    "    - I have then printed 'i' as well as the item of alist at that index\n",
    "- try replacing 'len(alist)' with a number and rerun the cell, try 13, then try 20\n",
    "- note what happens when you try 20"
   ]
  },
  {
   "cell_type": "code",
   "execution_count": null,
   "metadata": {},
   "outputs": [],
   "source": [
    "for i in range(len(alist)):\n",
    "    print(i, alist[i])"
   ]
  },
  {
   "cell_type": "markdown",
   "metadata": {},
   "source": [
    "Python has built in error reporting that tells you when something has gone wrong, the last line helps you identify **what** the problem is, the earlier parts help you identify **where** in your code the error occured. Errors are common when developing code many are due to typos or incorrect syntax"
   ]
  },
  {
   "cell_type": "markdown",
   "metadata": {},
   "source": [
    "## Getting fancy with nested loops\n",
    "- run the cell below"
   ]
  },
  {
   "cell_type": "code",
   "execution_count": null,
   "metadata": {},
   "outputs": [],
   "source": [
    "fileList = ['first','second','third','fourth'] # creates a new list\n",
    "\n",
    "for file in fileList:\n",
    "    for i in range(5):\n",
    "        print(file,i)"
   ]
  },
  {
   "cell_type": "markdown",
   "metadata": {},
   "source": [
    "- This is an example of a nested loop, i.e. a loop inside another loop.  \n",
    "- The first loop goes through **fileList** and for each iteration it runs through an other loop.  \n",
    "- The second loop goes through the numbers 0-4, which is created by range( )  \n",
    "- Inside the second loop the print statement prints the values of the two iterators.  \n",
    "- Please note again that **the indentation specifies what is inside a loop**.\n"
   ]
  },
  {
   "cell_type": "markdown",
   "metadata": {},
   "source": [
    "### You have just learnt how to use for loops, one of the basic building blocks of coding\n",
    "- One last thing\n",
    "- Create the new list by running the cell below, note it is a list of numbers\n",
    "- on the line below type print( numbersInList*3)"
   ]
  },
  {
   "cell_type": "code",
   "execution_count": null,
   "metadata": {},
   "outputs": [],
   "source": [
    "numbersInList=[0,1,2,3,4,5,6,7,8,9]\n",
    "\n"
   ]
  },
  {
   "cell_type": "markdown",
   "metadata": {},
   "source": [
    "### Rather than multiplying the list of numbers by 3 it repeated the list 3 times\n",
    "- This is a key point... you can not do maths with lists"
   ]
  },
  {
   "cell_type": "markdown",
   "metadata": {},
   "source": [
    "# Intro1\n",
    "### You have learnt about:\n",
    "   - jupyter note books\n",
    "   - code **cells** and *markdown* ***cells***\n",
    "   - *strings* and **variables: ints and floats**\n",
    "   - lists: **learn more of their very useful functions here**: https://docs.python.org/3/tutorial/datastructures.html\n",
    "   - how to query the data type of an object: \"**type(object)**\"\n",
    "   - how to query the length of an object: \"**len(object)**\"\n",
    "   - how to query an index of a list: \"**list[index]**\"\n",
    "   - how to use for loops\n",
    "   - you can't do maths with lists of variables"
   ]
  },
  {
   "cell_type": "code",
   "execution_count": null,
   "metadata": {},
   "outputs": [],
   "source": []
  }
 ],
 "metadata": {
  "kernelspec": {
   "display_name": "Python 3",
   "language": "python",
   "name": "python3"
  },
  "language_info": {
   "codemirror_mode": {
    "name": "ipython",
    "version": 3
   },
   "file_extension": ".py",
   "mimetype": "text/x-python",
   "name": "python",
   "nbconvert_exporter": "python",
   "pygments_lexer": "ipython3",
   "version": "3.7.6"
  },
  "varInspector": {
   "cols": {
    "lenName": 16,
    "lenType": 16,
    "lenVar": 40
   },
   "kernels_config": {
    "python": {
     "delete_cmd_postfix": "",
     "delete_cmd_prefix": "del ",
     "library": "var_list.py",
     "varRefreshCmd": "print(var_dic_list())"
    },
    "r": {
     "delete_cmd_postfix": ") ",
     "delete_cmd_prefix": "rm(",
     "library": "var_list.r",
     "varRefreshCmd": "cat(var_dic_list()) "
    }
   },
   "types_to_exclude": [
    "module",
    "function",
    "builtin_function_or_method",
    "instance",
    "_Feature"
   ],
   "window_display": false
  }
 },
 "nbformat": 4,
 "nbformat_minor": 4
}
