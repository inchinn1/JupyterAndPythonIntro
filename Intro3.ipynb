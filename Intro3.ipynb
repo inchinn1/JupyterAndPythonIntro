{
 "cells": [
  {
   "cell_type": "markdown",
   "metadata": {},
   "source": [
    "# Getting file names and paths\n",
    "An important step when automating analysis is to generate a list of files that you will load and process. This short notebook will show you how to do that\n",
    "\n",
    "In the previous notebook \"PreWork2\" we used <Code>np.loadtxt('mitralSpikes.txt')</Code> to load the file **mitralSpikes.txt**  \n",
    "\n",
    "This was easy as **mitralSpikes.txt** was in the same ***directory*** (AKA folder) as the notebook we are using. If it was not we would have to provide the **path** to the file as well as the file name. \n",
    "\n",
    "In the main binder folder i.e. where you opened this notebook from, there is a folder called **TestFolder** with some empty files in it. We are going to learn how to generate a list of these file names that includes the path. We will do this with the **glob** library\n",
    "- run the cell below to import the glob library"
   ]
  },
  {
   "cell_type": "code",
   "execution_count": 1,
   "metadata": {},
   "outputs": [],
   "source": [
    "import glob\n",
    "import numpy as np"
   ]
  },
  {
   "cell_type": "markdown",
   "metadata": {},
   "source": [
    "To get a list of all items in the current directory you use <code>glob.glob(\"*\")</code> glob.glob( ) requires a string, the asterisk symbol is a wildcard i.e. it will find all items\n",
    "- in the cell below type <code>items = glob.glob('*')</code>\n",
    "- then on a new line print items"
   ]
  },
  {
   "cell_type": "code",
   "execution_count": null,
   "metadata": {},
   "outputs": [],
   "source": [
    "\n"
   ]
  },
  {
   "cell_type": "markdown",
   "metadata": {},
   "source": [
    "You should see a list of all the items in the current directory, you can confirm this by clicking on your browsers tab that still has this open.  \n",
    "\n",
    "Note it has returned all the items. Sometimes we only want to work on a specific file type\n",
    "- in the cell below copy and paste the code from above but add **.ipynb** after the asterisk"
   ]
  },
  {
   "cell_type": "code",
   "execution_count": null,
   "metadata": {
    "scrolled": true
   },
   "outputs": [],
   "source": [
    "\n"
   ]
  },
  {
   "cell_type": "markdown",
   "metadata": {},
   "source": [
    "Now you just have a list of the jupyter notebooks\n",
    "\n",
    "Look again at the output of your first code cell. Within this list there is **TestFolder** which is a subdirectory (aka folder, you can tell this as it lacks a file type e.g. \".ipynb\" or \".txt\")\n",
    "\n",
    "Next we are going to get all of the files within this subdirectory\n",
    "- run the cell below "
   ]
  },
  {
   "cell_type": "code",
   "execution_count": null,
   "metadata": {},
   "outputs": [],
   "source": [
    "items = glob.glob('TestFolder/*')\n",
    "for item in items:\n",
    "    print(item)"
   ]
  },
  {
   "cell_type": "markdown",
   "metadata": {},
   "source": [
    "We have now told glob to look for all items inside TestFolder. We did this by using **TestFolder/**, the forward slash after the folder indicates that you want to look inside this folder. Again the wildcard returns all files.  \n",
    "Note the file names include the path i.e. the **TestFolder/** bit, this is necessary if you want to load the files in a sub directory.   \n",
    "\n",
    "N.B. I have just used the for loop to make it easier to read the contents of the list\n",
    "\n",
    "- try and create a list of just the csv files from TestFolder in the cell below"
   ]
  },
  {
   "cell_type": "code",
   "execution_count": null,
   "metadata": {},
   "outputs": [],
   "source": []
  },
  {
   "cell_type": "markdown",
   "metadata": {},
   "source": [
    "## Another notebook completed! This is what you have learnt:\n",
    "   - how to use the glob.glob( ) function to get a list of files\n",
    "   - how to restrict the list to only certain file types\n",
    "   - how to get files inside a subdirectory\n",
    "\n"
   ]
  },
  {
   "cell_type": "code",
   "execution_count": null,
   "metadata": {},
   "outputs": [],
   "source": []
  }
 ],
 "metadata": {
  "kernelspec": {
   "display_name": "Python 3",
   "language": "python",
   "name": "python3"
  },
  "language_info": {
   "codemirror_mode": {
    "name": "ipython",
    "version": 3
   },
   "file_extension": ".py",
   "mimetype": "text/x-python",
   "name": "python",
   "nbconvert_exporter": "python",
   "pygments_lexer": "ipython3",
   "version": "3.7.6"
  },
  "varInspector": {
   "cols": {
    "lenName": 16,
    "lenType": 16,
    "lenVar": 40
   },
   "kernels_config": {
    "python": {
     "delete_cmd_postfix": "",
     "delete_cmd_prefix": "del ",
     "library": "var_list.py",
     "varRefreshCmd": "print(var_dic_list())"
    },
    "r": {
     "delete_cmd_postfix": ") ",
     "delete_cmd_prefix": "rm(",
     "library": "var_list.r",
     "varRefreshCmd": "cat(var_dic_list()) "
    }
   },
   "types_to_exclude": [
    "module",
    "function",
    "builtin_function_or_method",
    "instance",
    "_Feature"
   ],
   "window_display": false
  }
 },
 "nbformat": 4,
 "nbformat_minor": 4
}
